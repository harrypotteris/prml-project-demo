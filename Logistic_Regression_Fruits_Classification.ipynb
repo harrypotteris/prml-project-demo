{
  "nbformat": 4,
  "nbformat_minor": 0,
  "metadata": {
    "colab": {
      "provenance": []
    },
    "kernelspec": {
      "name": "python3",
      "display_name": "Python 3"
    },
    "language_info": {
      "name": "python"
    }
  },
  "cells": [
    {
      "cell_type": "code",
      "execution_count": null,
      "metadata": {},
      "outputs": [],
      "source": [
        "import pandas as pd\n",
        "from sklearn.linear_model import LogisticRegression\n",
        "from sklearn.metrics import accuracy_score\n",
        "from sklearn.preprocessing import LabelEncoder, StandardScaler, PolynomialFeatures\n",
        "\n",
        "# Load datasets\n",
        "train_df = pd.read_csv('/content/colour_Histogram_Training.csv')\n",
        "test_df = pd.read_csv('/content/colour_Histogram_Testing.csv')\n",
        "\n",
        "# Prepare feature matrix and target variable\n",
        "X_train = train_df.drop(columns=['filename', 'class'])\n",
        "y_train = train_df['class']\n",
        "X_test = test_df.drop(columns=['filename', 'class'])\n",
        "y_test = test_df['class']\n",
        "\n",
        "# Encode class labels\n",
        "label_encoder = LabelEncoder()\n",
        "y_train_encoded = label_encoder.fit_transform(y_train)\n",
        "y_test_encoded = label_encoder.transform(y_test)\n",
        "\n",
        "# Standardize features\n",
        "scaler = StandardScaler()\n",
        "X_train_scaled = scaler.fit_transform(X_train)\n",
        "X_test_scaled = scaler.transform(X_test)\n",
        "\n",
        "# Generate polynomial features\n",
        "poly = PolynomialFeatures(degree=2, interaction_only=True)\n",
        "X_train_poly = poly.fit_transform(X_train_scaled)\n",
        "X_test_poly = poly.transform(X_test_scaled)\n",
        "\n",
        "# Train logistic regression model\n",
        "model = LogisticRegression(max_iter=1000)\n",
        "model.fit(X_train_poly, y_train_encoded)\n",
        "y_pred_poly = model.predict(X_test_poly)\n",
        "\n",
        "# Evaluate model\n",
        "accuracy_poly = accuracy_score(y_test_encoded, y_pred_poly)\n",
        "\n",
        "# Display results\n",
        "from IPython.display import display\n",
        "print(\"Accuracy with Polynomial Features:\", accuracy_poly)"
      ]
    }
  ]
}
